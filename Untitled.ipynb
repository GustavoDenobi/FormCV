{
 "cells": [
  {
   "cell_type": "markdown",
   "metadata": {
    "toc": true
   },
   "source": [
    "<h1>Table of Contents<span class=\"tocSkip\"></span></h1>\n",
    "<div class=\"toc\"><ul class=\"toc-item\"><li><span><a href=\"#To-transform-'2018'-in-'y2018'\" data-toc-modified-id=\"To-transform-'2018'-in-'y2018'-1\"><span class=\"toc-item-num\">1&nbsp;&nbsp;</span>To transform '2018' in 'y2018'</a></span></li><li><span><a href=\"#To-transform-csv-into-json\" data-toc-modified-id=\"To-transform-csv-into-json-2\"><span class=\"toc-item-num\">2&nbsp;&nbsp;</span>To transform csv into json</a></span></li></ul></div>"
   ]
  },
  {
   "cell_type": "code",
   "execution_count": 20,
   "metadata": {
    "ExecuteTime": {
     "end_time": "2019-02-16T00:04:57.448246Z",
     "start_time": "2019-02-16T00:04:57.445208Z"
    }
   },
   "outputs": [],
   "source": [
    "from tinydb import TinyDB, Query\n",
    "import json\n",
    "import pyexcel as pe\n",
    "import pprint\n"
   ]
  },
  {
   "cell_type": "code",
   "execution_count": 6,
   "metadata": {
    "ExecuteTime": {
     "end_time": "2019-02-15T23:44:02.439566Z",
     "start_time": "2019-02-15T23:44:02.435577Z"
    }
   },
   "outputs": [],
   "source": [
    "csvfile = 'database\\BancoDeHorasFinal.csv'\n",
    "jsonfile = 'database\\BancoDeDados.json'"
   ]
  },
  {
   "cell_type": "code",
   "execution_count": 3,
   "metadata": {
    "ExecuteTime": {
     "end_time": "2019-02-15T23:37:21.380214Z",
     "start_time": "2019-02-15T23:37:21.373259Z"
    }
   },
   "outputs": [
    {
     "name": "stdout",
     "output_type": "stream",
     "text": [
      "{'RA': 15016382, 'NOME': 'Alana Oliveira Fernandes', 'CONSULTORIA': 'Ambivet', 'y2018': [{'month': 'AGO', 'time': 8, 'entry_time': '20181231120000'}, {'month': 'OUT', 'time': 16.75, 'entry_time': '20181231120000'}, {'month': 'NOV', 'time': 4, 'entry_time': '20181231120000'}]}\n"
     ]
    }
   ],
   "source": [
    "a = TinyDB('database\\databasefile.json')\n",
    "with a as db:\n",
    "    print(db.all()[0])"
   ]
  },
  {
   "cell_type": "markdown",
   "metadata": {},
   "source": [
    "## To transform '2018' in 'y2018'"
   ]
  },
  {
   "cell_type": "code",
   "execution_count": null,
   "metadata": {
    "ExecuteTime": {
     "end_time": "2019-02-15T02:13:32.995602Z",
     "start_time": "2019-02-15T02:13:31.921906Z"
    }
   },
   "outputs": [],
   "source": [
    "database = TinyDB(\"database\\databasefile.json\")\n",
    "with database as db:\n",
    "    for doc in iter(db):\n",
    "        doc[\"y2018\"] = []\n",
    "        for d in doc[\"2018\"]:\n",
    "            doc[\"y2018\"].append(d)\n",
    "        db.update(doc, Query().RA == doc[\"RA\"])"
   ]
  },
  {
   "cell_type": "markdown",
   "metadata": {
    "ExecuteTime": {
     "end_time": "2019-02-15T17:29:10.728548Z",
     "start_time": "2019-02-15T17:29:10.721591Z"
    }
   },
   "source": [
    "## To transform csv into json"
   ]
  },
  {
   "cell_type": "code",
   "execution_count": 22,
   "metadata": {
    "ExecuteTime": {
     "end_time": "2019-02-16T00:08:35.564408Z",
     "start_time": "2019-02-16T00:08:35.539468Z"
    }
   },
   "outputs": [
    {
     "name": "stdout",
     "output_type": "stream",
     "text": [
      "{'RA': 15016382, 'NOME': 'Alana Oliveira Fernandes', 'CONSULTORIA': 'Ambivet', 'y2018': [{'month': 'AGO', 'time': 8.0, 'entry_time': 20181231235959}, {'month': 'OUT', 'time': 16.75, 'entry_time': 20181231235959}, {'month': 'NOV', 'time': 4.0, 'entry_time': 20181231235959}]}\n",
      "213\n",
      "213\n"
     ]
    }
   ],
   "source": [
    "months = ['JAN', 'FEV', 'MAR', 'ABR', 'MAI', 'JUN', 'JUL', 'AGO', 'SET', 'OUT', 'NOV', 'DEZ']\n",
    "csv = pe.get_dict(file_name = csvfile, encoding = 'utf-8-sig')\n",
    "length = len(csv['RA'])\n",
    "new = []\n",
    "for i in range(length):\n",
    "    doc = {'RA': csv['RA'][i],\n",
    "           'NOME': csv['NOME'][i],\n",
    "           'CONSULTORIA': csv['CONSULTORIA'][i],\n",
    "           'y2018': []}\n",
    "    for key in months:\n",
    "        if csv[key][i] > 0:\n",
    "            doc['y2018'].append({'month': key,\n",
    "                                 'time': float(csv[key][i]),\n",
    "                                 'entry_time': 20181231235959})\n",
    "    new.append(doc)\n",
    "\n",
    "print(new[5])\n",
    "print(length)\n",
    "print(len(new))"
   ]
  },
  {
   "cell_type": "code",
   "execution_count": 23,
   "metadata": {
    "ExecuteTime": {
     "end_time": "2019-02-16T00:08:46.138142Z",
     "start_time": "2019-02-16T00:08:46.117222Z"
    }
   },
   "outputs": [
    {
     "name": "stdout",
     "output_type": "stream",
     "text": [
      "[   {   'CONSULTORIA': 'Ecovida',\n",
      "        'NOME': 'Adrielli Maria dos Reis ',\n",
      "        'RA': 14145932,\n",
      "        'y2018': [   {   'entry_time': 20181231235959,\n",
      "                         'month': 'AGO',\n",
      "                         'time': 10.5},\n",
      "                     {   'entry_time': 20181231235959,\n",
      "                         'month': 'SET',\n",
      "                         'time': 4.0},\n",
      "                     {   'entry_time': 20181231235959,\n",
      "                         'month': 'OUT',\n",
      "                         'time': 2.0}]},\n",
      "    {   'CONSULTORIA': 'MM Design ',\n",
      "        'NOME': 'Alan Douglas C. Morais',\n",
      "        'RA': 18058102,\n",
      "        'y2018': [   {   'entry_time': 20181231235959,\n",
      "                         'month': 'SET',\n",
      "                         'time': 14.75},\n",
      "                     {   'entry_time': 20181231235959,\n",
      "                         'month': 'OUT',\n",
      "                         'time': 13.25},\n",
      "                     {   'entry_time': 20181231235959,\n",
      "                         'month': 'NOV',\n",
      "                         'time': 9.5}]}]\n"
     ]
    }
   ],
   "source": [
    "db = TinyDB(jsonfile)\n",
    "with db as database:\n",
    "    database.insert_multiple(new)\n",
    "    pp = pprint.PrettyPrinter(indent=4)\n",
    "    pp.pprint(database.all()[3:5])\n",
    "    "
   ]
  },
  {
   "cell_type": "code",
   "execution_count": null,
   "metadata": {},
   "outputs": [],
   "source": []
  }
 ],
 "metadata": {
  "kernelspec": {
   "display_name": "Python 3",
   "language": "python",
   "name": "python3"
  },
  "language_info": {
   "codemirror_mode": {
    "name": "ipython",
    "version": 3
   },
   "file_extension": ".py",
   "mimetype": "text/x-python",
   "name": "python",
   "nbconvert_exporter": "python",
   "pygments_lexer": "ipython3",
   "version": "3.6.5"
  },
  "latex_envs": {
   "LaTeX_envs_menu_present": true,
   "autoclose": true,
   "autocomplete": true,
   "bibliofile": "biblio.bib",
   "cite_by": "apalike",
   "current_citInitial": 1,
   "eqLabelWithNumbers": true,
   "eqNumInitial": 1,
   "hotkeys": {
    "equation": "Ctrl-E",
    "itemize": "Ctrl-I"
   },
   "labels_anchors": false,
   "latex_user_defs": false,
   "report_style_numbering": false,
   "user_envs_cfg": false
  },
  "toc": {
   "base_numbering": 1,
   "nav_menu": {},
   "number_sections": true,
   "sideBar": true,
   "skip_h1_title": true,
   "title_cell": "Table of Contents",
   "title_sidebar": "Contents",
   "toc_cell": true,
   "toc_position": {
    "height": "calc(100% - 180px)",
    "left": "10px",
    "top": "150px",
    "width": "229.929px"
   },
   "toc_section_display": true,
   "toc_window_display": true
  },
  "varInspector": {
   "cols": {
    "lenName": 16,
    "lenType": 16,
    "lenVar": 40
   },
   "kernels_config": {
    "python": {
     "delete_cmd_postfix": "",
     "delete_cmd_prefix": "del ",
     "library": "var_list.py",
     "varRefreshCmd": "print(var_dic_list())"
    },
    "r": {
     "delete_cmd_postfix": ") ",
     "delete_cmd_prefix": "rm(",
     "library": "var_list.r",
     "varRefreshCmd": "cat(var_dic_list()) "
    }
   },
   "types_to_exclude": [
    "module",
    "function",
    "builtin_function_or_method",
    "instance",
    "_Feature"
   ],
   "window_display": false
  }
 },
 "nbformat": 4,
 "nbformat_minor": 2
}
